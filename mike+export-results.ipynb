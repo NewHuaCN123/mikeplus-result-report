{
 "cells": [
  {
   "cell_type": "code",
   "execution_count": 1,
   "id": "ada4d39d",
   "metadata": {
    "ExecuteTime": {
     "end_time": "2021-09-15T09:18:03.404098Z",
     "start_time": "2021-09-15T09:18:03.385152Z"
    }
   },
   "outputs": [],
   "source": [
    "# import of necessary libaries\n",
    "# MIKE IO 1D, needs Pandas and Numpy\n",
    "import mikeio1d\n",
    "from mikeio1d.res1d import Res1D, QueryDataNode, QueryDataReach,ResultData, mike1d_quantities, ResultData\n",
    "import pandas as pd\n",
    "import numpy as np\n",
    "\n",
    "# connection to MIKE+ database:\n",
    "import sqlite3\n",
    "\n",
    "# file and folder manipulation for input and output:\n",
    "import os\n",
    "\n",
    "# find files faster\n",
    "from fnmatch import fnmatch"
   ]
  },
  {
   "cell_type": "code",
   "execution_count": 2,
   "id": "35fd2919",
   "metadata": {
    "ExecuteTime": {
     "end_time": "2021-09-15T09:18:03.420089Z",
     "start_time": "2021-09-15T09:18:03.406095Z"
    }
   },
   "outputs": [],
   "source": [
    "# location of mikeio\n",
    "\n",
    "# print(mikeio1d.__file__)"
   ]
  },
  {
   "cell_type": "markdown",
   "id": "2bff9cd7",
   "metadata": {
    "tags": []
   },
   "source": [
    "# Define functions"
   ]
  },
  {
   "cell_type": "code",
   "execution_count": 3,
   "id": "352114a3-38db-4e40-9d59-f8b21b9fe641",
   "metadata": {},
   "outputs": [
    {
     "name": "stdout",
     "output_type": "stream",
     "text": [
      "Defining functions...\n"
     ]
    }
   ],
   "source": [
    "print('Defining functions...')"
   ]
  },
  {
   "cell_type": "code",
   "execution_count": 4,
   "id": "8e1b88b7-7da0-4e1a-80b7-63ac000983c7",
   "metadata": {
    "ExecuteTime": {
     "end_time": "2021-09-15T09:18:03.451975Z",
     "start_time": "2021-09-15T09:18:03.422050Z"
    },
    "code_folding": [
     0,
     6,
     17,
     30,
     40,
     48,
     58,
     83,
     116,
     135
    ]
   },
   "outputs": [],
   "source": [
    "# get Discharge of full reach:\n",
    "\n",
    "def get_qfull_data(res1d):\n",
    "    network_datas = list(res1d.data.NetworkDatas)\n",
    "    for data in network_datas:\n",
    "        if data.Quantity.Id == \"Discharge of full reach\":\n",
    "            return data    \n",
    "\n",
    "def get_qfull(reach, qfull_data):\n",
    "    if qfull_data is None:\n",
    "        return None\n",
    "\n",
    "    reach_data = qfull_data.GetReachData(reach.Name)\n",
    "\n",
    "    if reach_data is not None:\n",
    "        return reach_data.GlobalValue\n",
    "\n",
    "    return None"
   ]
  },
  {
   "cell_type": "code",
   "execution_count": 5,
   "id": "aa307683-6d31-4d79-8f09-ece74bfa91ff",
   "metadata": {
    "ExecuteTime": {
     "end_time": "2021-09-15T09:18:03.451975Z",
     "start_time": "2021-09-15T09:18:03.422050Z"
    },
    "code_folding": [
     0,
     6,
     17,
     30,
     40,
     48,
     58,
     83,
     116,
     135
    ]
   },
   "outputs": [],
   "source": [
    "# return InvertLevel and GroundLevel from a Res1DManhole object:\n",
    "\n",
    "def get_node_levels(node):\n",
    "    try:\n",
    "        invert_level = node.BottomLevel\n",
    "    except:\n",
    "        invert_level = None\n",
    "\n",
    "    try:\n",
    "        ground_level = node.GroundLevel\n",
    "    except:\n",
    "        ground_level = None\n",
    "\n",
    "    return invert_level, ground_level"
   ]
  },
  {
   "cell_type": "code",
   "execution_count": 6,
   "id": "53205a8c-2994-499b-911a-7f73b85c7170",
   "metadata": {
    "ExecuteTime": {
     "end_time": "2021-09-15T09:18:03.451975Z",
     "start_time": "2021-09-15T09:18:03.422050Z"
    },
    "code_folding": [
     0,
     6,
     17,
     30,
     40,
     48,
     58,
     83,
     116,
     135
    ]
   },
   "outputs": [],
   "source": [
    "# return Diameter of reach looking at the first GridPoint, with two decimal places\n",
    "# needs modification for rectangular and CRS reaches:\n",
    "\n",
    "def get_diameter(reach):\n",
    "    try:\n",
    "        grid_points = list(reach.GridPoints)\n",
    "        h_point = grid_points[0]\n",
    "        diameter = round(h_point.CrossSection.Diameter,2)\n",
    "    except:\n",
    "        diameter = None\n",
    "\n",
    "    return diameter"
   ]
  },
  {
   "cell_type": "code",
   "execution_count": 7,
   "id": "06dfd925-2297-42ea-a05c-bbeac34a786b",
   "metadata": {
    "ExecuteTime": {
     "end_time": "2021-09-15T09:18:03.451975Z",
     "start_time": "2021-09-15T09:18:03.422050Z"
    },
    "code_folding": [
     0,
     6,
     17,
     30,
     40,
     48,
     58,
     83,
     116,
     135
    ]
   },
   "outputs": [],
   "source": [
    "# compute slope from first and last GridPoint, returns absolute value in percent:\n",
    "\n",
    "def get_slope(reach):\n",
    "    grid_points = list(reach.GridPoints)\n",
    "    gp_first = grid_points[0]\n",
    "    gp_last = grid_points[-1]\n",
    "    length = reach.Length\n",
    "    slope = ((gp_first.Z - gp_last.Z) / length)*100\n",
    "    return abs(slope)"
   ]
  },
  {
   "cell_type": "code",
   "execution_count": 8,
   "id": "efa9a564-6f93-4c68-bb7e-92431d505c34",
   "metadata": {
    "ExecuteTime": {
     "end_time": "2021-09-15T09:18:03.451975Z",
     "start_time": "2021-09-15T09:18:03.422050Z"
    },
    "code_folding": [
     0,
     6,
     17,
     30,
     40,
     48,
     58,
     83,
     116,
     135
    ]
   },
   "outputs": [],
   "source": [
    "# returns the time series (?) for a specific Quantity ID\n",
    "\n",
    "def get_data_item(reach, quantity_id):\n",
    "    item = None\n",
    "\n",
    "    for data_item in list(reach.DataItems):\n",
    "        if data_item.Quantity.Id == quantity_id:\n",
    "            item = data_item\n",
    "            break\n",
    "\n",
    "    return item"
   ]
  },
  {
   "cell_type": "code",
   "execution_count": 9,
   "id": "4e8e6c1d-51e4-45ac-b789-9a1ed8a9878a",
   "metadata": {
    "ExecuteTime": {
     "end_time": "2021-09-15T09:18:03.451975Z",
     "start_time": "2021-09-15T09:18:03.422050Z"
    },
    "code_folding": [
     0,
     6,
     17,
     30,
     40,
     48,
     58,
     83,
     116,
     135
    ]
   },
   "outputs": [],
   "source": [
    "# Get min and max value and times for a any model element (not only reaches)\n",
    "# reach...DHI.Mike1D.ResultDataAccess.Res1DManhole object or similar\n",
    "# timeslist...list of DateTime objects\n",
    "# quantity_id...string with quantity (default ist \"Discharge\")\n",
    "\n",
    "def get_minmax_value_result_file(reach, times_list, quantity_id=\"Discharge\"):\n",
    "    item = get_data_item(reach, quantity_id)\n",
    "\n",
    "    min_value, min_time = None, None\n",
    "    max_value, max_time = None, None   \n",
    "    \n",
    "    try:\n",
    "        time_data = item.TimeData\n",
    "        for time_step_index in range(time_data.NumberOfTimeSteps):\n",
    "            \n",
    "            for element_index in range(time_data.NumberOfElements):\n",
    "                value = time_data.GetValue(time_step_index, element_index)\n",
    "                if min_value is None or value < min_value:\n",
    "                    min_value = value \n",
    "                    min_time = times_list[time_step_index].ToString()\n",
    "\n",
    "                if max_value is None or value > max_value:\n",
    "                    max_value = value \n",
    "                    max_time =  times_list[time_step_index].ToString()\n",
    "    \n",
    "    except:\n",
    "        time_data = None\n",
    "    \n",
    "    return min_value, min_time, max_value, max_time"
   ]
  },
  {
   "cell_type": "code",
   "execution_count": 10,
   "id": "523671fe-be58-4f1d-b8c2-da926bf33d3f",
   "metadata": {
    "ExecuteTime": {
     "end_time": "2021-09-15T09:18:03.451975Z",
     "start_time": "2021-09-15T09:18:03.422050Z"
    },
    "code_folding": [
     0,
     6,
     17,
     30,
     40,
     48,
     58,
     83,
     116,
     135
    ]
   },
   "outputs": [],
   "source": [
    "# not used; probably an early version of get_minmax_value_result_file\n",
    "\n",
    "# def get_minmax_value(reach, simulation_start, quantity_id=\"Discharge\"):    \n",
    "#     item_max = get_data_item(reach, quantity_id + \"Max\")\n",
    "#     item_max_time = get_data_item(reach, quantity_id + \"MaxTime\")\n",
    "#     item_min = get_data_item(reach, quantity_id + \"Min\")\n",
    "#     item_min_time = get_data_item(reach, quantity_id + \"MinTime\")\n",
    "\n",
    "#     items = [item_max, item_max_time, item_min, item_min_time]\n",
    "#     if None in items:\n",
    "#         return None\n",
    "\n",
    "#     min_value, min_time = None, None\n",
    "#     max_value, max_time = None, None   \n",
    "\n",
    "#     number_of_elements = item_min.TimeData.NumberOfElements\n",
    "#     time_step_index = 0\n",
    "\n",
    "#     for element_index in range(number_of_elements):\n",
    "#         value = item_min.TimeData.GetValue(time_step_index, element_index)\n",
    "#         time = item_min_time.TimeData.GetValue(time_step_index, element_index)\n",
    "        \n",
    "#         if min_value is None or value < min_value:\n",
    "#             min_value = value \n",
    "#             min_time = simulation_start.AddSeconds(time)\n",
    "\n",
    "#         value = item_max.TimeData.GetValue(time_step_index, element_index)\n",
    "#         time = item_max_time.TimeData.GetValue(time_step_index, element_index)\n",
    "\n",
    "#         if max_value is None or value > max_value:\n",
    "#             max_value = value \n",
    "#             max_time = simulation_start.AddSeconds(time)\n",
    "\n",
    "#     return min_value, min_time.ToString(), max_value, max_time.ToString()"
   ]
  },
  {
   "cell_type": "code",
   "execution_count": 11,
   "id": "bd8e1597-ddb1-4187-a10c-fc9509198930",
   "metadata": {
    "ExecuteTime": {
     "end_time": "2021-09-15T09:18:03.451975Z",
     "start_time": "2021-09-15T09:18:03.422050Z"
    },
    "code_folding": [
     0,
     6,
     17,
     30,
     40,
     48,
     58,
     83,
     116,
     135
    ]
   },
   "outputs": [],
   "source": [
    "# return max value and time for start and end of reach\n",
    "# works probably not only for WaterLevel\n",
    "# get_reach_start_values must be some predefined method for res1d\n",
    "\n",
    "def max_WL_start_end (quantity):\n",
    "    try:\n",
    "        #np-array of waterlevels\n",
    "        wl_start = res1d.get_reach_start_values(reach.Name, quantity)\n",
    "        wl_end = res1d.get_reach_end_values(reach.Name, quantity)\n",
    "\n",
    "        #max values\n",
    "        wl_start_max = wl_start.max()\n",
    "        wl_end_max = wl_end.max()\n",
    "\n",
    "        #corresponding time\n",
    "        time_start=str(res1d.time_index[np.argmax(wl_start)])\n",
    "        time_end=str(res1d.time_index[np.argmax(wl_start)])\n",
    "        \n",
    "    except:\n",
    "        wl_start,wl_end,wl_start_max,wl_end_max,time_start,time_end= None, None, None, None, None, None\n",
    "    \n",
    "    return wl_start_max, time_start, wl_end_max, time_end"
   ]
  },
  {
   "cell_type": "code",
   "execution_count": 12,
   "id": "a6d7811f-e42e-4c3c-9683-bb8fce117562",
   "metadata": {},
   "outputs": [],
   "source": [
    "# compute a/b but return None if a or b is None:\n",
    "\n",
    "def get_ratio(a, b):\n",
    "    try:\n",
    "        ratio = a/b\n",
    "        \n",
    "    except:\n",
    "        a is None or b is None\n",
    "        ratio=None\n",
    "    \n",
    "    return ratio"
   ]
  },
  {
   "cell_type": "code",
   "execution_count": 13,
   "id": "45fd2f87-3362-4f8d-9d92-89d01d305d2b",
   "metadata": {},
   "outputs": [],
   "source": [
    "# returns type of reach\n",
    "# needs additional types like valve or orifice\n",
    "\n",
    "def get_reach_type(reach):\n",
    "    try:\n",
    "        # get the full identifier string:\n",
    "        fullstring = str(reach)\n",
    "        \n",
    "        # might be:\n",
    "        # 'Res1DReach: B4.1520l1-13 (0-235.000625581015)'\n",
    "        # 'Res1DReach: Weir:B4.1480w1-14 (0-1)',\n",
    "        # 'Res1DReach: Pump:B4.1510p1-16 (0-80.0006092712283)'\n",
    "\n",
    "        # get the second part after the ':'\n",
    "        structureReach = fullstring.split(':')[1].lstrip()\n",
    "\n",
    "        # if the second part is Pump or Weir, use Pump or Weir:\n",
    "        if structureReach in ['Pump','Weir']:\n",
    "            reach_type = structureReach\n",
    "\n",
    "        # in any other case this must be a normal Link (Pipe or Canal or River)\n",
    "        else:\n",
    "            reach_type = 'Link'\n",
    "    \n",
    "    except:\n",
    "        reach_type = None\n",
    "\n",
    "    return reach_type"
   ]
  },
  {
   "cell_type": "markdown",
   "id": "81c5009e",
   "metadata": {
    "tags": []
   },
   "source": [
    "# Find res1d and sqlite files"
   ]
  },
  {
   "cell_type": "code",
   "execution_count": 14,
   "id": "5973871c",
   "metadata": {},
   "outputs": [
    {
     "name": "stdout",
     "output_type": "stream",
     "text": [
      "Searching res1d and sqlite files...\n"
     ]
    }
   ],
   "source": [
    "print('Searching res1d and sqlite files...')"
   ]
  },
  {
   "cell_type": "code",
   "execution_count": 15,
   "id": "c22f3f16-ec45-4f33-8bf3-eaa72c0d9972",
   "metadata": {},
   "outputs": [],
   "source": [
    "cwd = os.getcwd()\n",
    "\n",
    "# cwd"
   ]
  },
  {
   "cell_type": "code",
   "execution_count": 16,
   "id": "618535ca-0ca1-4995-8d6f-325e84c13625",
   "metadata": {},
   "outputs": [],
   "source": [
    "myFiles = os.listdir(cwd)"
   ]
  },
  {
   "cell_type": "code",
   "execution_count": 17,
   "id": "b38a0da9-cc2e-4135-a7eb-ce7c8c86f899",
   "metadata": {},
   "outputs": [
    {
     "name": "stdout",
     "output_type": "stream",
     "text": [
      "Current res1d-file: Tutor1base.Copy.res1d\n"
     ]
    }
   ],
   "source": [
    "# create a list of res1d-files\n",
    "myRes1dFiles = [file for file in myFiles if fnmatch(file, '*.res1d')]\n",
    "\n",
    "# pick the first res1d-file\n",
    "oneRes1dFile = myRes1dFiles[0]\n",
    "\n",
    "print('Current res1d-file: ' + oneRes1dFile)"
   ]
  },
  {
   "cell_type": "code",
   "execution_count": 18,
   "id": "f12a8931-b56b-41c3-9bd1-a0b97e02635f",
   "metadata": {},
   "outputs": [
    {
     "name": "stdout",
     "output_type": "stream",
     "text": [
      "Current MIKE+ database: mp21Tutor1.sqlite\n"
     ]
    }
   ],
   "source": [
    "# create a list of sqlite-files\n",
    "mySQLiteFiles = [file for file in myFiles if fnmatch(file, '*.sqlite')] \n",
    "\n",
    "# pick the first sqlite-file\n",
    "oneSQLiteFile = mySQLiteFiles[0]\n",
    "\n",
    "print('Current MIKE+ database: ' + oneSQLiteFile)"
   ]
  },
  {
   "cell_type": "markdown",
   "id": "4e55526b-cab1-4f2b-8ddd-f31ffed74c91",
   "metadata": {
    "tags": []
   },
   "source": [
    "# Create nodes and reaches lists from res1d"
   ]
  },
  {
   "cell_type": "code",
   "execution_count": 19,
   "id": "defa8c79",
   "metadata": {},
   "outputs": [
    {
     "name": "stdout",
     "output_type": "stream",
     "text": [
      "Creating nodes and links lists from res1d...\n"
     ]
    }
   ],
   "source": [
    "print('Creating nodes and links lists from res1d...')"
   ]
  },
  {
   "cell_type": "code",
   "execution_count": 20,
   "id": "e1360b5c-5b0f-4b49-a439-7056453370af",
   "metadata": {
    "ExecuteTime": {
     "end_time": "2021-09-15T09:18:03.717013Z",
     "start_time": "2021-09-15T09:18:03.561745Z"
    },
    "code_folding": []
   },
   "outputs": [],
   "source": [
    "# create a Res1d-object\n",
    "res1d = Res1D(oneRes1dFile)\n",
    "\n",
    "reaches = list(res1d.data.Reaches)\n",
    "nodes = list(res1d.data.Nodes)\n",
    "\n",
    "qfull_data = get_qfull_data(res1d)\n",
    "times_list  = list(res1d.data.TimesList)\n",
    "\n",
    "simulation_start = res1d.data.StartTime"
   ]
  },
  {
   "cell_type": "code",
   "execution_count": 21,
   "id": "d20719f1-86c1-45db-889c-b65f9e9c1350",
   "metadata": {},
   "outputs": [
    {
     "data": {
      "text/plain": [
       "<mikeio1d.Res1D>\n",
       "Start time: 1953-05-16 18:00:00\n",
       "End time: 1953-05-16 21:59:05\n",
       "# Timesteps: 157\n",
       "# Catchments: 0\n",
       "# Nodes: 16\n",
       "# Reaches: 17\n",
       "# Globals: 2\n",
       "0 - WaterLevel <m>\n",
       "1 - Discharge <m^3/s>\n",
       "2 - TimeStep <sec>\n",
       "3 - NumTriesForTimeStep <m>"
      ]
     },
     "execution_count": 21,
     "metadata": {},
     "output_type": "execute_result"
    }
   ],
   "source": [
    "res1d"
   ]
  },
  {
   "cell_type": "code",
   "execution_count": 22,
   "id": "536b5dca-97a3-419b-b0c0-85cd7b68b544",
   "metadata": {},
   "outputs": [
    {
     "data": {
      "text/plain": [
       "[<DHI.Mike1D.ResultDataAccess.Res1DReach object at 0x000001CA42BA8F40>,\n",
       " <DHI.Mike1D.ResultDataAccess.Res1DReach object at 0x000001CA42BA8550>,\n",
       " <DHI.Mike1D.ResultDataAccess.Res1DReach object at 0x000001CA42BA8790>,\n",
       " <DHI.Mike1D.ResultDataAccess.Res1DReach object at 0x000001CA42BA8820>,\n",
       " <DHI.Mike1D.ResultDataAccess.Res1DReach object at 0x000001CA42BA87F0>,\n",
       " <DHI.Mike1D.ResultDataAccess.Res1DReach object at 0x000001CA42BA81F0>,\n",
       " <DHI.Mike1D.ResultDataAccess.Res1DReach object at 0x000001CA42BAE040>,\n",
       " <DHI.Mike1D.ResultDataAccess.Res1DReach object at 0x000001CA42BAE070>,\n",
       " <DHI.Mike1D.ResultDataAccess.Res1DReach object at 0x000001CA42BAE0A0>,\n",
       " <DHI.Mike1D.ResultDataAccess.Res1DReach object at 0x000001CA42BAE0D0>,\n",
       " <DHI.Mike1D.ResultDataAccess.Res1DReach object at 0x000001CA42BAE100>,\n",
       " <DHI.Mike1D.ResultDataAccess.Res1DReach object at 0x000001CA42BAE130>,\n",
       " <DHI.Mike1D.ResultDataAccess.Res1DReach object at 0x000001CA42BAE160>,\n",
       " <DHI.Mike1D.ResultDataAccess.Res1DStructureReach object at 0x000001CA42BAE190>,\n",
       " <DHI.Mike1D.ResultDataAccess.Res1DStructureReach object at 0x000001CA42BAE1C0>,\n",
       " <DHI.Mike1D.ResultDataAccess.Res1DStructureReach object at 0x000001CA42BAE1F0>,\n",
       " <DHI.Mike1D.ResultDataAccess.Res1DStructureReach object at 0x000001CA42BAE220>]"
      ]
     },
     "execution_count": 22,
     "metadata": {},
     "output_type": "execute_result"
    }
   ],
   "source": [
    "reaches"
   ]
  },
  {
   "cell_type": "code",
   "execution_count": 23,
   "id": "941b7985-dcfe-47c4-9620-a5f1ae15e98e",
   "metadata": {},
   "outputs": [
    {
     "data": {
      "text/plain": [
       "[<DHI.Mike1D.ResultDataAccess.Res1DManhole object at 0x000001CA42BAE250>,\n",
       " <DHI.Mike1D.ResultDataAccess.Res1DManhole object at 0x000001CA42BAE280>,\n",
       " <DHI.Mike1D.ResultDataAccess.Res1DManhole object at 0x000001CA42BAE2B0>,\n",
       " <DHI.Mike1D.ResultDataAccess.Res1DManhole object at 0x000001CA42BAE310>,\n",
       " <DHI.Mike1D.ResultDataAccess.Res1DManhole object at 0x000001CA42BAE2E0>,\n",
       " <DHI.Mike1D.ResultDataAccess.Res1DManhole object at 0x000001CA42BAE5E0>,\n",
       " <DHI.Mike1D.ResultDataAccess.Res1DManhole object at 0x000001CA42BAE340>,\n",
       " <DHI.Mike1D.ResultDataAccess.Res1DManhole object at 0x000001CA42BAE370>,\n",
       " <DHI.Mike1D.ResultDataAccess.Res1DManhole object at 0x000001CA42BAE3A0>,\n",
       " <DHI.Mike1D.ResultDataAccess.Res1DManhole object at 0x000001CA42BAE3D0>,\n",
       " <DHI.Mike1D.ResultDataAccess.Res1DManhole object at 0x000001CA42BAE400>,\n",
       " <DHI.Mike1D.ResultDataAccess.Res1DBasin object at 0x000001CA42BAE430>,\n",
       " <DHI.Mike1D.ResultDataAccess.Res1DBasin object at 0x000001CA42BAE460>,\n",
       " <DHI.Mike1D.ResultDataAccess.Res1DOutlet object at 0x000001CA42BAE490>,\n",
       " <DHI.Mike1D.ResultDataAccess.Res1DOutlet object at 0x000001CA42BAE4C0>,\n",
       " <DHI.Mike1D.ResultDataAccess.Res1DOutlet object at 0x000001CA42BAE4F0>]"
      ]
     },
     "execution_count": 23,
     "metadata": {},
     "output_type": "execute_result"
    }
   ],
   "source": [
    "nodes"
   ]
  },
  {
   "cell_type": "markdown",
   "id": "7210b37c-4d44-4af2-9662-48c551c67b43",
   "metadata": {
    "tags": []
   },
   "source": [
    "# Prepare desired node results"
   ]
  },
  {
   "cell_type": "code",
   "execution_count": 24,
   "id": "f1529baa",
   "metadata": {},
   "outputs": [
    {
     "name": "stdout",
     "output_type": "stream",
     "text": [
      "Preparing desired node results...\n"
     ]
    }
   ],
   "source": [
    "print('Preparing desired node results...')"
   ]
  },
  {
   "cell_type": "code",
   "execution_count": 25,
   "id": "d8a3ec64-0485-4f08-8f81-ae4c9b08704e",
   "metadata": {
    "tags": []
   },
   "outputs": [],
   "source": [
    "# initialize node lists\n",
    "\n",
    "Node_ID = []\n",
    "WLmin = []\n",
    "WLmax = []\n",
    "WLmaxmin = []"
   ]
  },
  {
   "cell_type": "code",
   "execution_count": 26,
   "id": "98b595f1-4df3-4629-acde-af3f5c34aa3b",
   "metadata": {
    "tags": []
   },
   "outputs": [],
   "source": [
    "# call necessary informations from initially defined functions\n",
    "\n",
    "for node in nodes:\n",
    "    id = node.ID\n",
    "    min_wl = get_minmax_value_result_file(node, times_list, quantity_id=\"WaterLevel\")[0]\n",
    "    max_wl = get_minmax_value_result_file(node, times_list, quantity_id=\"WaterLevel\")[2]\n",
    "    max_min_wl = max_wl / min_wl\n",
    "    \n",
    "    # fill initialized node lists    \n",
    "    Node_ID.append(id)\n",
    "    WLmin.append(min_wl)\n",
    "    WLmax.append(max_wl)\n",
    "    WLmaxmin.append(max_min_wl)\n",
    "    "
   ]
  },
  {
   "cell_type": "code",
   "execution_count": 27,
   "id": "7a2a889f-bdb8-4a20-ad1b-d99af8962cae",
   "metadata": {
    "tags": []
   },
   "outputs": [],
   "source": [
    "# create dictionary with node lists\n",
    "\n",
    "dict_res1d_nodes = {'Node_ID':Node_ID, 'WLmin':WLmin, 'WLmax':WLmax, 'WLmaxmin':WLmaxmin}"
   ]
  },
  {
   "cell_type": "code",
   "execution_count": 28,
   "id": "671ae7a0-b3c9-4f3e-8546-44d98d507057",
   "metadata": {
    "tags": []
   },
   "outputs": [
    {
     "data": {
      "text/html": [
       "<div>\n",
       "<style scoped>\n",
       "    .dataframe tbody tr th:only-of-type {\n",
       "        vertical-align: middle;\n",
       "    }\n",
       "\n",
       "    .dataframe tbody tr th {\n",
       "        vertical-align: top;\n",
       "    }\n",
       "\n",
       "    .dataframe thead th {\n",
       "        text-align: right;\n",
       "    }\n",
       "</style>\n",
       "<table border=\"1\" class=\"dataframe\">\n",
       "  <thead>\n",
       "    <tr style=\"text-align: right;\">\n",
       "      <th></th>\n",
       "      <th>WLmin</th>\n",
       "      <th>WLmax</th>\n",
       "      <th>WLmaxmin</th>\n",
       "    </tr>\n",
       "    <tr>\n",
       "      <th>Node_ID</th>\n",
       "      <th></th>\n",
       "      <th></th>\n",
       "      <th></th>\n",
       "    </tr>\n",
       "  </thead>\n",
       "  <tbody>\n",
       "    <tr>\n",
       "      <th>B4.1520</th>\n",
       "      <td>16.50250</td>\n",
       "      <td>19.50122</td>\n",
       "      <td>1.181713</td>\n",
       "    </tr>\n",
       "    <tr>\n",
       "      <th>B4.1500</th>\n",
       "      <td>16.70300</td>\n",
       "      <td>19.61063</td>\n",
       "      <td>1.174078</td>\n",
       "    </tr>\n",
       "    <tr>\n",
       "      <th>B4.1501</th>\n",
       "      <td>17.60150</td>\n",
       "      <td>20.76025</td>\n",
       "      <td>1.179459</td>\n",
       "    </tr>\n",
       "    <tr>\n",
       "      <th>B4.1502</th>\n",
       "      <td>17.86125</td>\n",
       "      <td>21.78367</td>\n",
       "      <td>1.219605</td>\n",
       "    </tr>\n",
       "    <tr>\n",
       "      <th>B4.1490</th>\n",
       "      <td>16.39500</td>\n",
       "      <td>17.43768</td>\n",
       "      <td>1.063597</td>\n",
       "    </tr>\n",
       "    <tr>\n",
       "      <th>B4.1485</th>\n",
       "      <td>16.35500</td>\n",
       "      <td>17.37703</td>\n",
       "      <td>1.062490</td>\n",
       "    </tr>\n",
       "    <tr>\n",
       "      <th>B4.1320</th>\n",
       "      <td>17.10500</td>\n",
       "      <td>17.51902</td>\n",
       "      <td>1.024205</td>\n",
       "    </tr>\n",
       "    <tr>\n",
       "      <th>B4.1310</th>\n",
       "      <td>17.30500</td>\n",
       "      <td>17.66968</td>\n",
       "      <td>1.021074</td>\n",
       "    </tr>\n",
       "    <tr>\n",
       "      <th>B4.1300</th>\n",
       "      <td>17.42500</td>\n",
       "      <td>17.88718</td>\n",
       "      <td>1.026524</td>\n",
       "    </tr>\n",
       "    <tr>\n",
       "      <th>B4.1200</th>\n",
       "      <td>16.80350</td>\n",
       "      <td>20.37670</td>\n",
       "      <td>1.212646</td>\n",
       "    </tr>\n",
       "    <tr>\n",
       "      <th>B4.1491</th>\n",
       "      <td>17.50175</td>\n",
       "      <td>20.29294</td>\n",
       "      <td>1.159481</td>\n",
       "    </tr>\n",
       "    <tr>\n",
       "      <th>B4.1480</th>\n",
       "      <td>16.25500</td>\n",
       "      <td>17.12773</td>\n",
       "      <td>1.053690</td>\n",
       "    </tr>\n",
       "    <tr>\n",
       "      <th>B4.1510</th>\n",
       "      <td>14.20250</td>\n",
       "      <td>17.19295</td>\n",
       "      <td>1.210558</td>\n",
       "    </tr>\n",
       "    <tr>\n",
       "      <th>A0.0327</th>\n",
       "      <td>16.00113</td>\n",
       "      <td>17.18797</td>\n",
       "      <td>1.074172</td>\n",
       "    </tr>\n",
       "    <tr>\n",
       "      <th>Weir Outlet:B4.1480w1</th>\n",
       "      <td>11.25000</td>\n",
       "      <td>16.80000</td>\n",
       "      <td>1.493333</td>\n",
       "    </tr>\n",
       "    <tr>\n",
       "      <th>Weir Outlet:B4.1510w1</th>\n",
       "      <td>9.20000</td>\n",
       "      <td>17.10000</td>\n",
       "      <td>1.858696</td>\n",
       "    </tr>\n",
       "  </tbody>\n",
       "</table>\n",
       "</div>"
      ],
      "text/plain": [
       "                          WLmin     WLmax  WLmaxmin\n",
       "Node_ID                                            \n",
       "B4.1520                16.50250  19.50122  1.181713\n",
       "B4.1500                16.70300  19.61063  1.174078\n",
       "B4.1501                17.60150  20.76025  1.179459\n",
       "B4.1502                17.86125  21.78367  1.219605\n",
       "B4.1490                16.39500  17.43768  1.063597\n",
       "B4.1485                16.35500  17.37703  1.062490\n",
       "B4.1320                17.10500  17.51902  1.024205\n",
       "B4.1310                17.30500  17.66968  1.021074\n",
       "B4.1300                17.42500  17.88718  1.026524\n",
       "B4.1200                16.80350  20.37670  1.212646\n",
       "B4.1491                17.50175  20.29294  1.159481\n",
       "B4.1480                16.25500  17.12773  1.053690\n",
       "B4.1510                14.20250  17.19295  1.210558\n",
       "A0.0327                16.00113  17.18797  1.074172\n",
       "Weir Outlet:B4.1480w1  11.25000  16.80000  1.493333\n",
       "Weir Outlet:B4.1510w1   9.20000  17.10000  1.858696"
      ]
     },
     "execution_count": 28,
     "metadata": {},
     "output_type": "execute_result"
    }
   ],
   "source": [
    "# create dataframe from dictionaty\n",
    "\n",
    "df_res1dNode = pd.DataFrame(dict_res1d_nodes)\n",
    "\n",
    "df_res1dNode = df_res1dNode.set_index('Node_ID')\n",
    "\n",
    "df_res1dNode"
   ]
  },
  {
   "cell_type": "markdown",
   "id": "cae0facd-a6bf-4433-b2f7-4a8067cd25be",
   "metadata": {
    "tags": []
   },
   "source": [
    "# Prepare desired Link results"
   ]
  },
  {
   "cell_type": "code",
   "execution_count": 29,
   "id": "19c133d4",
   "metadata": {},
   "outputs": [
    {
     "name": "stdout",
     "output_type": "stream",
     "text": [
      "Preparing desired link results...\n"
     ]
    }
   ],
   "source": [
    "print('Preparing desired link results...')"
   ]
  },
  {
   "cell_type": "code",
   "execution_count": 30,
   "id": "3821bb33-13d4-4588-a391-9b0f52435bed",
   "metadata": {
    "ExecuteTime": {
     "end_time": "2021-09-15T09:18:03.717013Z",
     "start_time": "2021-09-15T09:18:03.561745Z"
    },
    "code_folding": [],
    "tags": []
   },
   "outputs": [],
   "source": [
    "#initialize lists\n",
    "Link_ID=[]\n",
    "Reach_Type=[]\n",
    "From_Node_ID=[]\n",
    "Invert_level_from_Node=[]\n",
    "Ground_level_from_Node=[]\n",
    "To_Node_ID=[]\n",
    "Invert_level_to_Node=[]\n",
    "Ground_level_to_Node=[]\n",
    "Length=[]\n",
    "Diameter=[]\n",
    "Slope=[]\n",
    "Qfull=[]\n",
    "\n",
    "Vmin=[]\n",
    "Vmin_time=[]\n",
    "Vmax=[]\n",
    "Vmax_time=[]\n",
    "Qmin=[]\n",
    "Qmin_time=[]\n",
    "Qmax=[]\n",
    "Qmax_time=[]\n",
    "\n",
    "Qmax_Qfull=[]\n",
    "WLmax_start=[]\n",
    "WLmax_start_time=[]\n",
    "WLmax_end=[]\n",
    "WLmax_end_time=[]"
   ]
  },
  {
   "cell_type": "code",
   "execution_count": 31,
   "id": "59cedc12-7311-44bc-acea-0458abcae4b3",
   "metadata": {
    "ExecuteTime": {
     "end_time": "2021-09-15T09:18:03.717013Z",
     "start_time": "2021-09-15T09:18:03.561745Z"
    },
    "code_folding": [],
    "tags": []
   },
   "outputs": [],
   "source": [
    "# call necessary informations from initially defined functions\n",
    "\n",
    "for reach in reaches:\n",
    "\n",
    "    name = reach.Name\n",
    "    reachtype = get_reach_type(reach)\n",
    "    node_from_index = reach.StartNodeIndex\n",
    "    node_to_index = reach.EndNodeIndex\n",
    "\n",
    "    node_from = nodes[node_from_index]\n",
    "    node_to = nodes[node_to_index]\n",
    "\n",
    "    invert_level_from, ground_level_from = get_node_levels(node_from)\n",
    "    invert_level_to, ground_level_to = get_node_levels(node_to)\n",
    "\n",
    "    diameter = get_diameter(reach)\n",
    "\n",
    "    slope = get_slope(reach)\n",
    "\n",
    "    qfull = get_qfull(reach, qfull_data)\n",
    "\n",
    "    v_minmax_data = get_minmax_value_result_file(reach, times_list, \"FlowVelocity\")\n",
    "    q_minmax_data = get_minmax_value_result_file(reach, times_list, \"Discharge\")\n",
    "       \n",
    "    maxWL=max_WL_start_end('WaterLevel')\n",
    "\n",
    "    Qmax_Qfull_ratio = get_ratio(q_minmax_data[2],qfull)\n",
    "\n",
    "    #fill initialized lists\n",
    "    Link_ID.append(name)\n",
    "    Reach_Type.append(reachtype)\n",
    "    From_Node_ID.append(node_from.ID)\n",
    "    Invert_level_from_Node.append(invert_level_from)\n",
    "    Ground_level_from_Node.append(ground_level_from)\n",
    "    To_Node_ID.append(node_to.ID)\n",
    "    Invert_level_to_Node.append(invert_level_to)\n",
    "    Ground_level_to_Node.append(ground_level_to)\n",
    "    Diameter.append(diameter)\n",
    "    Length.append(reach.Length)\n",
    "    Slope.append(slope)\n",
    "    Vmin.append(v_minmax_data[0])\n",
    "    Vmin_time.append(v_minmax_data[1])\n",
    "    Vmax.append(v_minmax_data[2])\n",
    "    Vmax_time.append(v_minmax_data[3])\n",
    "    Qmin.append(q_minmax_data[0])\n",
    "    Qmin_time.append(q_minmax_data[1])\n",
    "    Qmax.append(q_minmax_data[2])\n",
    "    Qmax_time.append(q_minmax_data[3])\n",
    "    Qfull.append(qfull)\n",
    "    Qmax_Qfull.append(Qmax_Qfull_ratio)\n",
    "    WLmax_start.append(maxWL[0])\n",
    "    WLmax_start_time.append(maxWL[1])\n",
    "    WLmax_end.append(maxWL[2])\n",
    "    WLmax_end_time.append(maxWL[3])\n",
    "    "
   ]
  },
  {
   "cell_type": "code",
   "execution_count": 32,
   "id": "312ec959-bd42-4c46-87ff-e3d1d595dc92",
   "metadata": {
    "ExecuteTime": {
     "end_time": "2021-09-15T09:18:03.717013Z",
     "start_time": "2021-09-15T09:18:03.561745Z"
    },
    "code_folding": [],
    "tags": []
   },
   "outputs": [],
   "source": [
    "# create dictionary with link lists\n",
    "\n",
    "dict_res1d_links = {'Link_ID':Link_ID, 'Reach_Type':Reach_Type, 'From_Node_ID':From_Node_ID,'Invert_level_from_Node':Invert_level_from_Node, \n",
    "                   'Ground_level_from_Node':Ground_level_from_Node,'To_Node_ID':To_Node_ID, 'Invert_level_to_Node': Invert_level_to_Node,\n",
    "                   'Ground_level_to_Node':Ground_level_to_Node, 'Diameter': Diameter,'Length':Length, 'Slope':Slope,'Vmin':Vmin, \n",
    "                   'Vmin_time':Vmin_time,'Vmax':Vmax, 'Vmax_time':Vmax_time, 'Qmin':Qmin, 'Qmin_time':Qmin_time,'Qmax':Qmax, 'Qmax_time':Qmax_time,\n",
    "                   'Qfull':Qfull,'Qmax_Qfull':Qmax_Qfull, 'WLmax_start':WLmax_start, 'WLmax_start_time':WLmax_start_time, 'WLmax_end':WLmax_end,\n",
    "                   'WLmax_end_time':WLmax_end_time}"
   ]
  },
  {
   "cell_type": "code",
   "execution_count": 33,
   "id": "91b6bea0-8802-4bff-bc15-bf70bb7183e5",
   "metadata": {
    "ExecuteTime": {
     "end_time": "2021-09-15T09:18:03.717013Z",
     "start_time": "2021-09-15T09:18:03.561745Z"
    },
    "code_folding": [],
    "tags": []
   },
   "outputs": [
    {
     "data": {
      "text/html": [
       "<div>\n",
       "<style scoped>\n",
       "    .dataframe tbody tr th:only-of-type {\n",
       "        vertical-align: middle;\n",
       "    }\n",
       "\n",
       "    .dataframe tbody tr th {\n",
       "        vertical-align: top;\n",
       "    }\n",
       "\n",
       "    .dataframe thead th {\n",
       "        text-align: right;\n",
       "    }\n",
       "</style>\n",
       "<table border=\"1\" class=\"dataframe\">\n",
       "  <thead>\n",
       "    <tr style=\"text-align: right;\">\n",
       "      <th></th>\n",
       "      <th>Reach_Type</th>\n",
       "      <th>From_Node_ID</th>\n",
       "      <th>Invert_level_from_Node</th>\n",
       "      <th>Ground_level_from_Node</th>\n",
       "      <th>To_Node_ID</th>\n",
       "      <th>Invert_level_to_Node</th>\n",
       "      <th>Ground_level_to_Node</th>\n",
       "      <th>Diameter</th>\n",
       "      <th>Length</th>\n",
       "      <th>Slope</th>\n",
       "      <th>...</th>\n",
       "      <th>Qmin</th>\n",
       "      <th>Qmin_time</th>\n",
       "      <th>Qmax</th>\n",
       "      <th>Qmax_time</th>\n",
       "      <th>Qfull</th>\n",
       "      <th>Qmax_Qfull</th>\n",
       "      <th>WLmax_start</th>\n",
       "      <th>WLmax_start_time</th>\n",
       "      <th>WLmax_end</th>\n",
       "      <th>WLmax_end_time</th>\n",
       "    </tr>\n",
       "    <tr>\n",
       "      <th>Link_ID</th>\n",
       "      <th></th>\n",
       "      <th></th>\n",
       "      <th></th>\n",
       "      <th></th>\n",
       "      <th></th>\n",
       "      <th></th>\n",
       "      <th></th>\n",
       "      <th></th>\n",
       "      <th></th>\n",
       "      <th></th>\n",
       "      <th></th>\n",
       "      <th></th>\n",
       "      <th></th>\n",
       "      <th></th>\n",
       "      <th></th>\n",
       "      <th></th>\n",
       "      <th></th>\n",
       "      <th></th>\n",
       "      <th></th>\n",
       "      <th></th>\n",
       "      <th></th>\n",
       "    </tr>\n",
       "  </thead>\n",
       "  <tbody>\n",
       "    <tr>\n",
       "      <th>B4.1200l1</th>\n",
       "      <td>Link</td>\n",
       "      <td>B4.1200</td>\n",
       "      <td>16.799999</td>\n",
       "      <td>19.900000</td>\n",
       "      <td>B4.1485</td>\n",
       "      <td>16.35</td>\n",
       "      <td>19.799999</td>\n",
       "      <td>0.7</td>\n",
       "      <td>479.998999</td>\n",
       "      <td>0.093750</td>\n",
       "      <td>...</td>\n",
       "      <td>-0.005379</td>\n",
       "      <td>16.05.1953 18:20:30</td>\n",
       "      <td>0.423308</td>\n",
       "      <td>16.05.1953 18:21:30</td>\n",
       "      <td>0.141865</td>\n",
       "      <td>2.983871</td>\n",
       "      <td>20.247484</td>\n",
       "      <td>1953-05-16 18:32:23</td>\n",
       "      <td>17.377028</td>\n",
       "      <td>1953-05-16 18:32:23</td>\n",
       "    </tr>\n",
       "    <tr>\n",
       "      <th>B4.1300l1</th>\n",
       "      <td>Link</td>\n",
       "      <td>B4.1300</td>\n",
       "      <td>17.420000</td>\n",
       "      <td>19.900000</td>\n",
       "      <td>B4.1320</td>\n",
       "      <td>17.10</td>\n",
       "      <td>20.200001</td>\n",
       "      <td>NaN</td>\n",
       "      <td>299.999956</td>\n",
       "      <td>0.106667</td>\n",
       "      <td>...</td>\n",
       "      <td>0.000191</td>\n",
       "      <td>16.05.1953 21:57:16</td>\n",
       "      <td>0.386263</td>\n",
       "      <td>16.05.1953 18:26:37</td>\n",
       "      <td>-1.000000</td>\n",
       "      <td>-0.386263</td>\n",
       "      <td>17.843431</td>\n",
       "      <td>1953-05-16 18:26:37</td>\n",
       "      <td>17.519020</td>\n",
       "      <td>1953-05-16 18:26:37</td>\n",
       "    </tr>\n",
       "    <tr>\n",
       "      <th>B4.1310l1</th>\n",
       "      <td>Link</td>\n",
       "      <td>B4.1310</td>\n",
       "      <td>17.299999</td>\n",
       "      <td>20.230000</td>\n",
       "      <td>B4.1320</td>\n",
       "      <td>17.10</td>\n",
       "      <td>20.200001</td>\n",
       "      <td>NaN</td>\n",
       "      <td>323.110187</td>\n",
       "      <td>0.061898</td>\n",
       "      <td>...</td>\n",
       "      <td>0.000146</td>\n",
       "      <td>16.05.1953 21:57:16</td>\n",
       "      <td>0.213843</td>\n",
       "      <td>16.05.1953 18:26:37</td>\n",
       "      <td>-1.000000</td>\n",
       "      <td>-0.213843</td>\n",
       "      <td>17.646738</td>\n",
       "      <td>1953-05-16 18:26:37</td>\n",
       "      <td>17.519020</td>\n",
       "      <td>1953-05-16 18:26:37</td>\n",
       "    </tr>\n",
       "    <tr>\n",
       "      <th>B4.1320l1</th>\n",
       "      <td>Link</td>\n",
       "      <td>B4.1320</td>\n",
       "      <td>17.100000</td>\n",
       "      <td>20.200001</td>\n",
       "      <td>B4.1485</td>\n",
       "      <td>16.35</td>\n",
       "      <td>19.799999</td>\n",
       "      <td>NaN</td>\n",
       "      <td>270.002056</td>\n",
       "      <td>0.277776</td>\n",
       "      <td>...</td>\n",
       "      <td>-0.228450</td>\n",
       "      <td>16.05.1953 18:25:30</td>\n",
       "      <td>0.430228</td>\n",
       "      <td>16.05.1953 18:30:35</td>\n",
       "      <td>-1.000000</td>\n",
       "      <td>-0.430228</td>\n",
       "      <td>17.444399</td>\n",
       "      <td>1953-05-16 18:32:23</td>\n",
       "      <td>17.377028</td>\n",
       "      <td>1953-05-16 18:32:23</td>\n",
       "    </tr>\n",
       "    <tr>\n",
       "      <th>B4.1480l1</th>\n",
       "      <td>Link</td>\n",
       "      <td>B4.1480</td>\n",
       "      <td>16.250000</td>\n",
       "      <td>18.500000</td>\n",
       "      <td>A0.0327</td>\n",
       "      <td>16.00</td>\n",
       "      <td>17.500000</td>\n",
       "      <td>1.2</td>\n",
       "      <td>119.998586</td>\n",
       "      <td>0.208336</td>\n",
       "      <td>...</td>\n",
       "      <td>-0.804957</td>\n",
       "      <td>16.05.1953 18:50:37</td>\n",
       "      <td>1.260161</td>\n",
       "      <td>16.05.1953 18:34:11</td>\n",
       "      <td>1.966383</td>\n",
       "      <td>0.640852</td>\n",
       "      <td>17.127731</td>\n",
       "      <td>1953-05-16 18:50:37</td>\n",
       "      <td>17.187971</td>\n",
       "      <td>1953-05-16 18:50:37</td>\n",
       "    </tr>\n",
       "  </tbody>\n",
       "</table>\n",
       "<p>5 rows × 24 columns</p>\n",
       "</div>"
      ],
      "text/plain": [
       "          Reach_Type From_Node_ID  Invert_level_from_Node  \\\n",
       "Link_ID                                                     \n",
       "B4.1200l1       Link      B4.1200               16.799999   \n",
       "B4.1300l1       Link      B4.1300               17.420000   \n",
       "B4.1310l1       Link      B4.1310               17.299999   \n",
       "B4.1320l1       Link      B4.1320               17.100000   \n",
       "B4.1480l1       Link      B4.1480               16.250000   \n",
       "\n",
       "           Ground_level_from_Node To_Node_ID  Invert_level_to_Node  \\\n",
       "Link_ID                                                              \n",
       "B4.1200l1               19.900000    B4.1485                 16.35   \n",
       "B4.1300l1               19.900000    B4.1320                 17.10   \n",
       "B4.1310l1               20.230000    B4.1320                 17.10   \n",
       "B4.1320l1               20.200001    B4.1485                 16.35   \n",
       "B4.1480l1               18.500000    A0.0327                 16.00   \n",
       "\n",
       "           Ground_level_to_Node  Diameter      Length     Slope  ...  \\\n",
       "Link_ID                                                          ...   \n",
       "B4.1200l1             19.799999       0.7  479.998999  0.093750  ...   \n",
       "B4.1300l1             20.200001       NaN  299.999956  0.106667  ...   \n",
       "B4.1310l1             20.200001       NaN  323.110187  0.061898  ...   \n",
       "B4.1320l1             19.799999       NaN  270.002056  0.277776  ...   \n",
       "B4.1480l1             17.500000       1.2  119.998586  0.208336  ...   \n",
       "\n",
       "               Qmin            Qmin_time      Qmax            Qmax_time  \\\n",
       "Link_ID                                                                   \n",
       "B4.1200l1 -0.005379  16.05.1953 18:20:30  0.423308  16.05.1953 18:21:30   \n",
       "B4.1300l1  0.000191  16.05.1953 21:57:16  0.386263  16.05.1953 18:26:37   \n",
       "B4.1310l1  0.000146  16.05.1953 21:57:16  0.213843  16.05.1953 18:26:37   \n",
       "B4.1320l1 -0.228450  16.05.1953 18:25:30  0.430228  16.05.1953 18:30:35   \n",
       "B4.1480l1 -0.804957  16.05.1953 18:50:37  1.260161  16.05.1953 18:34:11   \n",
       "\n",
       "              Qfull Qmax_Qfull  WLmax_start     WLmax_start_time  WLmax_end  \\\n",
       "Link_ID                                                                       \n",
       "B4.1200l1  0.141865   2.983871    20.247484  1953-05-16 18:32:23  17.377028   \n",
       "B4.1300l1 -1.000000  -0.386263    17.843431  1953-05-16 18:26:37  17.519020   \n",
       "B4.1310l1 -1.000000  -0.213843    17.646738  1953-05-16 18:26:37  17.519020   \n",
       "B4.1320l1 -1.000000  -0.430228    17.444399  1953-05-16 18:32:23  17.377028   \n",
       "B4.1480l1  1.966383   0.640852    17.127731  1953-05-16 18:50:37  17.187971   \n",
       "\n",
       "                WLmax_end_time  \n",
       "Link_ID                         \n",
       "B4.1200l1  1953-05-16 18:32:23  \n",
       "B4.1300l1  1953-05-16 18:26:37  \n",
       "B4.1310l1  1953-05-16 18:26:37  \n",
       "B4.1320l1  1953-05-16 18:32:23  \n",
       "B4.1480l1  1953-05-16 18:50:37  \n",
       "\n",
       "[5 rows x 24 columns]"
      ]
     },
     "execution_count": 33,
     "metadata": {},
     "output_type": "execute_result"
    }
   ],
   "source": [
    "# create dataframe from dictionary\n",
    "\n",
    "df_res1dLink=pd.DataFrame(dict_res1d_links)\n",
    "\n",
    "# keep only those lines where ReacH_Type = 'Link'\n",
    "# df_res1dLink = df_res1dLink.loc[df['Reach_Type'] == 'Link']\n",
    "# currently obsolete, as below merge eliminates non-Links\n",
    "\n",
    "# set index on Link_ID:\n",
    "df_res1dLink =  df_res1dLink.set_index('Link_ID')\n",
    "\n",
    "df_res1dLink.head()"
   ]
  },
  {
   "cell_type": "markdown",
   "id": "6861591c-9518-4d94-9707-0fb2090d822d",
   "metadata": {
    "tags": []
   },
   "source": [
    "# Join Node results with msm_Node"
   ]
  },
  {
   "cell_type": "code",
   "execution_count": 34,
   "id": "e58b674f",
   "metadata": {},
   "outputs": [
    {
     "name": "stdout",
     "output_type": "stream",
     "text": [
      "Joining results with msm_Node information...\n"
     ]
    }
   ],
   "source": [
    "print('Joining results with msm_Node information...')"
   ]
  },
  {
   "cell_type": "code",
   "execution_count": 35,
   "id": "08925073-fd8e-4410-a7f2-1904ea18c582",
   "metadata": {
    "tags": []
   },
   "outputs": [],
   "source": [
    "# establish connection to MIKE+ database:\n",
    "con = sqlite3.connect(oneSQLiteFile)"
   ]
  },
  {
   "cell_type": "code",
   "execution_count": 36,
   "id": "5f1a28bc-3f80-4796-90c2-8d8aea67c140",
   "metadata": {},
   "outputs": [],
   "source": [
    "# pick two columns from 'msm_Link':\n",
    "df_msmNode = pd.read_sql_query(\"SELECT muid, description, assetname from msm_Node\", con)"
   ]
  },
  {
   "cell_type": "code",
   "execution_count": 37,
   "id": "f7cac82b-4d6f-4dc4-a142-5e5b5388c91b",
   "metadata": {},
   "outputs": [],
   "source": [
    "# set index on 'muid'\n",
    "df_msmNode = df_msmNode.set_index('muid')"
   ]
  },
  {
   "cell_type": "code",
   "execution_count": 38,
   "id": "c48d4e1c-0820-4ce8-a862-79e9246f3fa0",
   "metadata": {},
   "outputs": [
    {
     "data": {
      "text/html": [
       "<div>\n",
       "<style scoped>\n",
       "    .dataframe tbody tr th:only-of-type {\n",
       "        vertical-align: middle;\n",
       "    }\n",
       "\n",
       "    .dataframe tbody tr th {\n",
       "        vertical-align: top;\n",
       "    }\n",
       "\n",
       "    .dataframe thead th {\n",
       "        text-align: right;\n",
       "    }\n",
       "</style>\n",
       "<table border=\"1\" class=\"dataframe\">\n",
       "  <thead>\n",
       "    <tr style=\"text-align: right;\">\n",
       "      <th></th>\n",
       "      <th>description</th>\n",
       "      <th>assetname</th>\n",
       "    </tr>\n",
       "    <tr>\n",
       "      <th>muid</th>\n",
       "      <th></th>\n",
       "      <th></th>\n",
       "    </tr>\n",
       "  </thead>\n",
       "  <tbody>\n",
       "    <tr>\n",
       "      <th>B4.1520</th>\n",
       "      <td>None</td>\n",
       "      <td>None</td>\n",
       "    </tr>\n",
       "    <tr>\n",
       "      <th>B4.1500</th>\n",
       "      <td>None</td>\n",
       "      <td>Nordknoten</td>\n",
       "    </tr>\n",
       "    <tr>\n",
       "      <th>B4.1501</th>\n",
       "      <td>None</td>\n",
       "      <td>None</td>\n",
       "    </tr>\n",
       "    <tr>\n",
       "      <th>B4.1502</th>\n",
       "      <td>None</td>\n",
       "      <td>Nordwestknoten</td>\n",
       "    </tr>\n",
       "    <tr>\n",
       "      <th>B4.1490</th>\n",
       "      <td>None</td>\n",
       "      <td>None</td>\n",
       "    </tr>\n",
       "  </tbody>\n",
       "</table>\n",
       "</div>"
      ],
      "text/plain": [
       "        description       assetname\n",
       "muid                               \n",
       "B4.1520        None            None\n",
       "B4.1500        None      Nordknoten\n",
       "B4.1501        None            None\n",
       "B4.1502        None  Nordwestknoten\n",
       "B4.1490        None            None"
      ]
     },
     "execution_count": 38,
     "metadata": {},
     "output_type": "execute_result"
    }
   ],
   "source": [
    "df_msmNode.head()"
   ]
  },
  {
   "cell_type": "code",
   "execution_count": 39,
   "id": "d2c68df7-f087-4cdc-97cd-f44105a309ff",
   "metadata": {},
   "outputs": [
    {
     "data": {
      "text/html": [
       "<div>\n",
       "<style scoped>\n",
       "    .dataframe tbody tr th:only-of-type {\n",
       "        vertical-align: middle;\n",
       "    }\n",
       "\n",
       "    .dataframe tbody tr th {\n",
       "        vertical-align: top;\n",
       "    }\n",
       "\n",
       "    .dataframe thead th {\n",
       "        text-align: right;\n",
       "    }\n",
       "</style>\n",
       "<table border=\"1\" class=\"dataframe\">\n",
       "  <thead>\n",
       "    <tr style=\"text-align: right;\">\n",
       "      <th></th>\n",
       "      <th>WLmin</th>\n",
       "      <th>WLmax</th>\n",
       "      <th>WLmaxmin</th>\n",
       "      <th>description</th>\n",
       "      <th>assetname</th>\n",
       "    </tr>\n",
       "  </thead>\n",
       "  <tbody>\n",
       "    <tr>\n",
       "      <th>B4.1520</th>\n",
       "      <td>16.50250</td>\n",
       "      <td>19.50122</td>\n",
       "      <td>1.181713</td>\n",
       "      <td>None</td>\n",
       "      <td>None</td>\n",
       "    </tr>\n",
       "    <tr>\n",
       "      <th>B4.1500</th>\n",
       "      <td>16.70300</td>\n",
       "      <td>19.61063</td>\n",
       "      <td>1.174078</td>\n",
       "      <td>None</td>\n",
       "      <td>Nordknoten</td>\n",
       "    </tr>\n",
       "    <tr>\n",
       "      <th>B4.1501</th>\n",
       "      <td>17.60150</td>\n",
       "      <td>20.76025</td>\n",
       "      <td>1.179459</td>\n",
       "      <td>None</td>\n",
       "      <td>None</td>\n",
       "    </tr>\n",
       "    <tr>\n",
       "      <th>B4.1502</th>\n",
       "      <td>17.86125</td>\n",
       "      <td>21.78367</td>\n",
       "      <td>1.219605</td>\n",
       "      <td>None</td>\n",
       "      <td>Nordwestknoten</td>\n",
       "    </tr>\n",
       "    <tr>\n",
       "      <th>B4.1490</th>\n",
       "      <td>16.39500</td>\n",
       "      <td>17.43768</td>\n",
       "      <td>1.063597</td>\n",
       "      <td>None</td>\n",
       "      <td>None</td>\n",
       "    </tr>\n",
       "    <tr>\n",
       "      <th>B4.1485</th>\n",
       "      <td>16.35500</td>\n",
       "      <td>17.37703</td>\n",
       "      <td>1.062490</td>\n",
       "      <td>None</td>\n",
       "      <td>Kreuzknoten</td>\n",
       "    </tr>\n",
       "    <tr>\n",
       "      <th>B4.1320</th>\n",
       "      <td>17.10500</td>\n",
       "      <td>17.51902</td>\n",
       "      <td>1.024205</td>\n",
       "      <td>None</td>\n",
       "      <td>None</td>\n",
       "    </tr>\n",
       "    <tr>\n",
       "      <th>B4.1310</th>\n",
       "      <td>17.30500</td>\n",
       "      <td>17.66968</td>\n",
       "      <td>1.021074</td>\n",
       "      <td>None</td>\n",
       "      <td>Ostknoten</td>\n",
       "    </tr>\n",
       "    <tr>\n",
       "      <th>B4.1300</th>\n",
       "      <td>17.42500</td>\n",
       "      <td>17.88718</td>\n",
       "      <td>1.026524</td>\n",
       "      <td>None</td>\n",
       "      <td>None</td>\n",
       "    </tr>\n",
       "    <tr>\n",
       "      <th>B4.1200</th>\n",
       "      <td>16.80350</td>\n",
       "      <td>20.37670</td>\n",
       "      <td>1.212646</td>\n",
       "      <td>None</td>\n",
       "      <td>None</td>\n",
       "    </tr>\n",
       "    <tr>\n",
       "      <th>B4.1491</th>\n",
       "      <td>17.50175</td>\n",
       "      <td>20.29294</td>\n",
       "      <td>1.159481</td>\n",
       "      <td>None</td>\n",
       "      <td>None</td>\n",
       "    </tr>\n",
       "    <tr>\n",
       "      <th>B4.1480</th>\n",
       "      <td>16.25500</td>\n",
       "      <td>17.12773</td>\n",
       "      <td>1.053690</td>\n",
       "      <td>None</td>\n",
       "      <td>None</td>\n",
       "    </tr>\n",
       "    <tr>\n",
       "      <th>B4.1510</th>\n",
       "      <td>14.20250</td>\n",
       "      <td>17.19295</td>\n",
       "      <td>1.210558</td>\n",
       "      <td>None</td>\n",
       "      <td>None</td>\n",
       "    </tr>\n",
       "  </tbody>\n",
       "</table>\n",
       "</div>"
      ],
      "text/plain": [
       "            WLmin     WLmax  WLmaxmin description       assetname\n",
       "B4.1520  16.50250  19.50122  1.181713        None            None\n",
       "B4.1500  16.70300  19.61063  1.174078        None      Nordknoten\n",
       "B4.1501  17.60150  20.76025  1.179459        None            None\n",
       "B4.1502  17.86125  21.78367  1.219605        None  Nordwestknoten\n",
       "B4.1490  16.39500  17.43768  1.063597        None            None\n",
       "B4.1485  16.35500  17.37703  1.062490        None     Kreuzknoten\n",
       "B4.1320  17.10500  17.51902  1.024205        None            None\n",
       "B4.1310  17.30500  17.66968  1.021074        None       Ostknoten\n",
       "B4.1300  17.42500  17.88718  1.026524        None            None\n",
       "B4.1200  16.80350  20.37670  1.212646        None            None\n",
       "B4.1491  17.50175  20.29294  1.159481        None            None\n",
       "B4.1480  16.25500  17.12773  1.053690        None            None\n",
       "B4.1510  14.20250  17.19295  1.210558        None            None"
      ]
     },
     "execution_count": 39,
     "metadata": {},
     "output_type": "execute_result"
    }
   ],
   "source": [
    "# join...werden dadurch die fälschlichen Knoten der Wehre entfernt?\n",
    "df_res1dmsmNode = pd.merge(df_res1dNode, df_msmNode, left_index=True, right_index=True)\n",
    "\n",
    "df_res1dmsmNode"
   ]
  },
  {
   "cell_type": "markdown",
   "id": "b1dfa3f1-6d24-4373-97a2-c652e10d1038",
   "metadata": {
    "tags": []
   },
   "source": [
    "# Join Link results with msmLink"
   ]
  },
  {
   "cell_type": "code",
   "execution_count": 40,
   "id": "a726e514",
   "metadata": {},
   "outputs": [
    {
     "name": "stdout",
     "output_type": "stream",
     "text": [
      "Joining Link results with msm_Link information...\n"
     ]
    }
   ],
   "source": [
    "print('Joining Link results with msm_Link information...')"
   ]
  },
  {
   "cell_type": "code",
   "execution_count": 41,
   "id": "09bde769-c138-439d-bd6b-1440e8b9e99c",
   "metadata": {
    "tags": []
   },
   "outputs": [],
   "source": [
    "# establish connection to MIKE+ database:\n",
    "con = sqlite3.connect(oneSQLiteFile)"
   ]
  },
  {
   "cell_type": "code",
   "execution_count": 42,
   "id": "1b489953-5f98-416e-8d03-4791d41673d7",
   "metadata": {},
   "outputs": [],
   "source": [
    "# pick two columns from 'msm_Link':\n",
    "df_msmLink = pd.read_sql_query(\"SELECT muid, description, assetname from msm_Link\", con)"
   ]
  },
  {
   "cell_type": "code",
   "execution_count": 43,
   "id": "383056d6-8ba6-4047-934e-dde46e6c3802",
   "metadata": {},
   "outputs": [],
   "source": [
    "# set index on 'muid'\n",
    "df_msmLink = df_msmLink.set_index('muid')"
   ]
  },
  {
   "cell_type": "code",
   "execution_count": 44,
   "id": "33b27685-df2e-4065-b027-02d54ef7e65b",
   "metadata": {},
   "outputs": [
    {
     "data": {
      "text/html": [
       "<div>\n",
       "<style scoped>\n",
       "    .dataframe tbody tr th:only-of-type {\n",
       "        vertical-align: middle;\n",
       "    }\n",
       "\n",
       "    .dataframe tbody tr th {\n",
       "        vertical-align: top;\n",
       "    }\n",
       "\n",
       "    .dataframe thead th {\n",
       "        text-align: right;\n",
       "    }\n",
       "</style>\n",
       "<table border=\"1\" class=\"dataframe\">\n",
       "  <thead>\n",
       "    <tr style=\"text-align: right;\">\n",
       "      <th></th>\n",
       "      <th>description</th>\n",
       "      <th>assetname</th>\n",
       "    </tr>\n",
       "    <tr>\n",
       "      <th>muid</th>\n",
       "      <th></th>\n",
       "      <th></th>\n",
       "    </tr>\n",
       "  </thead>\n",
       "  <tbody>\n",
       "    <tr>\n",
       "      <th>B4.1200l1</th>\n",
       "      <td>None</td>\n",
       "      <td>None</td>\n",
       "    </tr>\n",
       "    <tr>\n",
       "      <th>B4.1300l1</th>\n",
       "      <td>None</td>\n",
       "      <td>None</td>\n",
       "    </tr>\n",
       "    <tr>\n",
       "      <th>B4.1310l1</th>\n",
       "      <td>None</td>\n",
       "      <td>None</td>\n",
       "    </tr>\n",
       "    <tr>\n",
       "      <th>B4.1320l1</th>\n",
       "      <td>None</td>\n",
       "      <td>None</td>\n",
       "    </tr>\n",
       "    <tr>\n",
       "      <th>B4.1480l1</th>\n",
       "      <td>None</td>\n",
       "      <td>None</td>\n",
       "    </tr>\n",
       "  </tbody>\n",
       "</table>\n",
       "</div>"
      ],
      "text/plain": [
       "          description assetname\n",
       "muid                           \n",
       "B4.1200l1        None      None\n",
       "B4.1300l1        None      None\n",
       "B4.1310l1        None      None\n",
       "B4.1320l1        None      None\n",
       "B4.1480l1        None      None"
      ]
     },
     "execution_count": 44,
     "metadata": {},
     "output_type": "execute_result"
    }
   ],
   "source": [
    "df_msmLink.head()"
   ]
  },
  {
   "cell_type": "code",
   "execution_count": 45,
   "id": "6f1173d4-14e6-4247-8b13-67f029f0c270",
   "metadata": {},
   "outputs": [
    {
     "data": {
      "text/html": [
       "<div>\n",
       "<style scoped>\n",
       "    .dataframe tbody tr th:only-of-type {\n",
       "        vertical-align: middle;\n",
       "    }\n",
       "\n",
       "    .dataframe tbody tr th {\n",
       "        vertical-align: top;\n",
       "    }\n",
       "\n",
       "    .dataframe thead th {\n",
       "        text-align: right;\n",
       "    }\n",
       "</style>\n",
       "<table border=\"1\" class=\"dataframe\">\n",
       "  <thead>\n",
       "    <tr style=\"text-align: right;\">\n",
       "      <th></th>\n",
       "      <th>Reach_Type</th>\n",
       "      <th>From_Node_ID</th>\n",
       "      <th>Invert_level_from_Node</th>\n",
       "      <th>Ground_level_from_Node</th>\n",
       "      <th>To_Node_ID</th>\n",
       "      <th>Invert_level_to_Node</th>\n",
       "      <th>Ground_level_to_Node</th>\n",
       "      <th>Diameter</th>\n",
       "      <th>Length</th>\n",
       "      <th>Slope</th>\n",
       "      <th>...</th>\n",
       "      <th>Qmax</th>\n",
       "      <th>Qmax_time</th>\n",
       "      <th>Qfull</th>\n",
       "      <th>Qmax_Qfull</th>\n",
       "      <th>WLmax_start</th>\n",
       "      <th>WLmax_start_time</th>\n",
       "      <th>WLmax_end</th>\n",
       "      <th>WLmax_end_time</th>\n",
       "      <th>description</th>\n",
       "      <th>assetname</th>\n",
       "    </tr>\n",
       "  </thead>\n",
       "  <tbody>\n",
       "    <tr>\n",
       "      <th>B4.1200l1</th>\n",
       "      <td>Link</td>\n",
       "      <td>B4.1200</td>\n",
       "      <td>16.799999</td>\n",
       "      <td>19.900000</td>\n",
       "      <td>B4.1485</td>\n",
       "      <td>16.35</td>\n",
       "      <td>19.799999</td>\n",
       "      <td>0.7</td>\n",
       "      <td>479.998999</td>\n",
       "      <td>0.093750</td>\n",
       "      <td>...</td>\n",
       "      <td>0.423308</td>\n",
       "      <td>16.05.1953 18:21:30</td>\n",
       "      <td>0.141865</td>\n",
       "      <td>2.983871</td>\n",
       "      <td>20.247484</td>\n",
       "      <td>1953-05-16 18:32:23</td>\n",
       "      <td>17.377028</td>\n",
       "      <td>1953-05-16 18:32:23</td>\n",
       "      <td>None</td>\n",
       "      <td>None</td>\n",
       "    </tr>\n",
       "    <tr>\n",
       "      <th>B4.1300l1</th>\n",
       "      <td>Link</td>\n",
       "      <td>B4.1300</td>\n",
       "      <td>17.420000</td>\n",
       "      <td>19.900000</td>\n",
       "      <td>B4.1320</td>\n",
       "      <td>17.10</td>\n",
       "      <td>20.200001</td>\n",
       "      <td>NaN</td>\n",
       "      <td>299.999956</td>\n",
       "      <td>0.106667</td>\n",
       "      <td>...</td>\n",
       "      <td>0.386263</td>\n",
       "      <td>16.05.1953 18:26:37</td>\n",
       "      <td>-1.000000</td>\n",
       "      <td>-0.386263</td>\n",
       "      <td>17.843431</td>\n",
       "      <td>1953-05-16 18:26:37</td>\n",
       "      <td>17.519020</td>\n",
       "      <td>1953-05-16 18:26:37</td>\n",
       "      <td>None</td>\n",
       "      <td>None</td>\n",
       "    </tr>\n",
       "    <tr>\n",
       "      <th>B4.1310l1</th>\n",
       "      <td>Link</td>\n",
       "      <td>B4.1310</td>\n",
       "      <td>17.299999</td>\n",
       "      <td>20.230000</td>\n",
       "      <td>B4.1320</td>\n",
       "      <td>17.10</td>\n",
       "      <td>20.200001</td>\n",
       "      <td>NaN</td>\n",
       "      <td>323.110187</td>\n",
       "      <td>0.061898</td>\n",
       "      <td>...</td>\n",
       "      <td>0.213843</td>\n",
       "      <td>16.05.1953 18:26:37</td>\n",
       "      <td>-1.000000</td>\n",
       "      <td>-0.213843</td>\n",
       "      <td>17.646738</td>\n",
       "      <td>1953-05-16 18:26:37</td>\n",
       "      <td>17.519020</td>\n",
       "      <td>1953-05-16 18:26:37</td>\n",
       "      <td>None</td>\n",
       "      <td>None</td>\n",
       "    </tr>\n",
       "    <tr>\n",
       "      <th>B4.1320l1</th>\n",
       "      <td>Link</td>\n",
       "      <td>B4.1320</td>\n",
       "      <td>17.100000</td>\n",
       "      <td>20.200001</td>\n",
       "      <td>B4.1485</td>\n",
       "      <td>16.35</td>\n",
       "      <td>19.799999</td>\n",
       "      <td>NaN</td>\n",
       "      <td>270.002056</td>\n",
       "      <td>0.277776</td>\n",
       "      <td>...</td>\n",
       "      <td>0.430228</td>\n",
       "      <td>16.05.1953 18:30:35</td>\n",
       "      <td>-1.000000</td>\n",
       "      <td>-0.430228</td>\n",
       "      <td>17.444399</td>\n",
       "      <td>1953-05-16 18:32:23</td>\n",
       "      <td>17.377028</td>\n",
       "      <td>1953-05-16 18:32:23</td>\n",
       "      <td>None</td>\n",
       "      <td>None</td>\n",
       "    </tr>\n",
       "    <tr>\n",
       "      <th>B4.1480l1</th>\n",
       "      <td>Link</td>\n",
       "      <td>B4.1480</td>\n",
       "      <td>16.250000</td>\n",
       "      <td>18.500000</td>\n",
       "      <td>A0.0327</td>\n",
       "      <td>16.00</td>\n",
       "      <td>17.500000</td>\n",
       "      <td>1.2</td>\n",
       "      <td>119.998586</td>\n",
       "      <td>0.208336</td>\n",
       "      <td>...</td>\n",
       "      <td>1.260161</td>\n",
       "      <td>16.05.1953 18:34:11</td>\n",
       "      <td>1.966383</td>\n",
       "      <td>0.640852</td>\n",
       "      <td>17.127731</td>\n",
       "      <td>1953-05-16 18:50:37</td>\n",
       "      <td>17.187971</td>\n",
       "      <td>1953-05-16 18:50:37</td>\n",
       "      <td>None</td>\n",
       "      <td>None</td>\n",
       "    </tr>\n",
       "  </tbody>\n",
       "</table>\n",
       "<p>5 rows × 26 columns</p>\n",
       "</div>"
      ],
      "text/plain": [
       "          Reach_Type From_Node_ID  Invert_level_from_Node  \\\n",
       "B4.1200l1       Link      B4.1200               16.799999   \n",
       "B4.1300l1       Link      B4.1300               17.420000   \n",
       "B4.1310l1       Link      B4.1310               17.299999   \n",
       "B4.1320l1       Link      B4.1320               17.100000   \n",
       "B4.1480l1       Link      B4.1480               16.250000   \n",
       "\n",
       "           Ground_level_from_Node To_Node_ID  Invert_level_to_Node  \\\n",
       "B4.1200l1               19.900000    B4.1485                 16.35   \n",
       "B4.1300l1               19.900000    B4.1320                 17.10   \n",
       "B4.1310l1               20.230000    B4.1320                 17.10   \n",
       "B4.1320l1               20.200001    B4.1485                 16.35   \n",
       "B4.1480l1               18.500000    A0.0327                 16.00   \n",
       "\n",
       "           Ground_level_to_Node  Diameter      Length     Slope  ...  \\\n",
       "B4.1200l1             19.799999       0.7  479.998999  0.093750  ...   \n",
       "B4.1300l1             20.200001       NaN  299.999956  0.106667  ...   \n",
       "B4.1310l1             20.200001       NaN  323.110187  0.061898  ...   \n",
       "B4.1320l1             19.799999       NaN  270.002056  0.277776  ...   \n",
       "B4.1480l1             17.500000       1.2  119.998586  0.208336  ...   \n",
       "\n",
       "               Qmax            Qmax_time     Qfull Qmax_Qfull  WLmax_start  \\\n",
       "B4.1200l1  0.423308  16.05.1953 18:21:30  0.141865   2.983871    20.247484   \n",
       "B4.1300l1  0.386263  16.05.1953 18:26:37 -1.000000  -0.386263    17.843431   \n",
       "B4.1310l1  0.213843  16.05.1953 18:26:37 -1.000000  -0.213843    17.646738   \n",
       "B4.1320l1  0.430228  16.05.1953 18:30:35 -1.000000  -0.430228    17.444399   \n",
       "B4.1480l1  1.260161  16.05.1953 18:34:11  1.966383   0.640852    17.127731   \n",
       "\n",
       "              WLmax_start_time  WLmax_end       WLmax_end_time  description  \\\n",
       "B4.1200l1  1953-05-16 18:32:23  17.377028  1953-05-16 18:32:23         None   \n",
       "B4.1300l1  1953-05-16 18:26:37  17.519020  1953-05-16 18:26:37         None   \n",
       "B4.1310l1  1953-05-16 18:26:37  17.519020  1953-05-16 18:26:37         None   \n",
       "B4.1320l1  1953-05-16 18:32:23  17.377028  1953-05-16 18:32:23         None   \n",
       "B4.1480l1  1953-05-16 18:50:37  17.187971  1953-05-16 18:50:37         None   \n",
       "\n",
       "           assetname  \n",
       "B4.1200l1       None  \n",
       "B4.1300l1       None  \n",
       "B4.1310l1       None  \n",
       "B4.1320l1       None  \n",
       "B4.1480l1       None  \n",
       "\n",
       "[5 rows x 26 columns]"
      ]
     },
     "execution_count": 45,
     "metadata": {},
     "output_type": "execute_result"
    }
   ],
   "source": [
    "df_res1dmsmLink = pd.merge(df_res1dLink, df_msmLink, left_index=True, right_index=True)\n",
    "\n",
    "df_res1dmsmLink.head()"
   ]
  },
  {
   "cell_type": "markdown",
   "id": "9b84cdba",
   "metadata": {
    "tags": []
   },
   "source": [
    "# define output res1d-report format (*.csv | *.xlsx)"
   ]
  },
  {
   "cell_type": "code",
   "execution_count": 46,
   "id": "d92bc58b",
   "metadata": {},
   "outputs": [
    {
     "name": "stdout",
     "output_type": "stream",
     "text": [
      "Preparing your output...\n"
     ]
    }
   ],
   "source": [
    "print('Preparing your output...')"
   ]
  },
  {
   "cell_type": "code",
   "execution_count": 47,
   "id": "c926a156-bcfb-402b-880f-7ea7e4e153f1",
   "metadata": {
    "ExecuteTime": {
     "end_time": "2021-09-15T09:18:03.827682Z",
     "start_time": "2021-09-15T09:18:03.752885Z"
    }
   },
   "outputs": [],
   "source": [
    "# extract the root of the filename even if filename contains a dot, hence better than split('.')\n",
    "rootName = os.path.splitext(oneRes1dFile)[0]"
   ]
  },
  {
   "cell_type": "code",
   "execution_count": 54,
   "id": "523c6ecb-5319-4152-9ed9-a3417f498b69",
   "metadata": {
    "ExecuteTime": {
     "end_time": "2021-09-15T09:18:03.827682Z",
     "start_time": "2021-09-15T09:18:03.752885Z"
    }
   },
   "outputs": [
    {
     "name": "stdout",
     "output_type": "stream",
     "text": [
      "Tutor1base.Copy_Nodes.csv exported\n"
     ]
    }
   ],
   "source": [
    "# export node results\n",
    "\n",
    "# MUID is index and always exported as the first column\n",
    "\n",
    "# available columns (alphabetical order)\n",
    "# --------------------------------------\n",
    "# assetname\n",
    "# description\n",
    "# WLmin\n",
    "# WLmax\n",
    "# WLmaxmin\n",
    "\n",
    "myNodeColumns = [\n",
    "    'assetname',\n",
    "    'WLmin',\n",
    "    'WLmax']\n",
    "\n",
    "myNodeHeaderDE = [\n",
    "    'AssetName',\n",
    "    'Min.WSP',\n",
    "    'Max.WSP']\n",
    "\n",
    "# export NODE result table to csv and round to 3 decimal places\n",
    "df_res1dmsmNode.to_csv(rootName + '_Nodes.csv', index_label='MUID', columns = myNodeColumns, header = myNodeHeaderDE, float_format=\"%.3f\")\n",
    "\n",
    "print(rootName + '_Nodes.csv exported')"
   ]
  },
  {
   "cell_type": "code",
   "execution_count": 53,
   "id": "5999fd50-38ac-4007-bf2b-efcc716af13b",
   "metadata": {
    "ExecuteTime": {
     "end_time": "2021-09-15T09:18:03.827682Z",
     "start_time": "2021-09-15T09:18:03.752885Z"
    }
   },
   "outputs": [
    {
     "name": "stdout",
     "output_type": "stream",
     "text": [
      "Tutor1base.Copy_Links.csv exported\n"
     ]
    }
   ],
   "source": [
    "# export LINK result table to csv\n",
    "\n",
    "# Link_ID is index and always exported as the first column\n",
    "\n",
    "# available columns (aphabetical order)\n",
    "# -------------------------------------\n",
    "# assetname\n",
    "# description\n",
    "# Diameter\n",
    "# From_Node_ID\n",
    "# Ground_level_from_Node\n",
    "# Ground_level_to_Node\n",
    "# Invert_level_from_Node\n",
    "# Invert_level_to_Node\n",
    "# Length\n",
    "# Qfull\n",
    "# Qmax\n",
    "# Qmax_Qfull\n",
    "# Qmax_time\n",
    "# Qmin\n",
    "# Qmin_time\n",
    "# Reach_Type\n",
    "# Slope\n",
    "# To_Node_ID\n",
    "# Vmax\n",
    "# Vmax_time\n",
    "# Vmin\n",
    "# Vmin_time\n",
    "# WLmax_end\n",
    "# WLmax_end_time\n",
    "# WLmax_start\n",
    "# WLmax_start_time\n",
    "\n",
    "\n",
    "myLinkColumns = [\n",
    "    'assetname',\n",
    "    'From_Node_ID',\n",
    "    'To_Node_ID',\n",
    "    'Length',\n",
    "    'Diameter',\n",
    "    'Slope',\n",
    "    'Qfull',\n",
    "    'WLmax_start',\n",
    "    'WLmax_end',\n",
    "    'Qmax',\n",
    "    'Qmax_Qfull',\n",
    "    'Qmax_time']\n",
    "    \n",
    "myLinkHeaderDE = [\n",
    "    'AssetName',\n",
    "    'Von Knoten',\n",
    "    'Nach Knoten',\n",
    "    'Länge [m]',\n",
    "    'Profilhöhe [m]',\n",
    "    'Sohlgefälle [%]',\n",
    "    'Qvoll [m3/s]',\n",
    "    'WSPmax obem [m]',\n",
    "    'WSPmax unten [m]',\n",
    "    'Qmax [m3/s]',\n",
    "    'Qmax/Qvoll [ ]',\n",
    "    'Qmax Zeit']\n",
    "\n",
    "\n",
    "# export LINK result table to csv and round to 3 decimal places\n",
    "df_res1dmsmLink.to_csv(rootName + '_Links.csv', index_label='MUID', columns=myLinkColumns, header=myLinkHeaderDE, float_format=\"%.3f\")\n",
    "\n",
    "print(rootName + '_Links.csv exported')"
   ]
  },
  {
   "cell_type": "code",
   "execution_count": null,
   "id": "7f45fb60-0c33-471a-9497-6c485f8fd40a",
   "metadata": {},
   "outputs": [],
   "source": [
    "# Wait for input before closing the command window:\n",
    "input('Press ENTER to close window')"
   ]
  },
  {
   "cell_type": "code",
   "execution_count": null,
   "id": "8f746290-7e71-4788-b651-51f068f83e79",
   "metadata": {},
   "outputs": [],
   "source": []
  }
 ],
 "metadata": {
  "kernelspec": {
   "display_name": "Python 3 (ipykernel)",
   "language": "python",
   "name": "python3"
  },
  "language_info": {
   "codemirror_mode": {
    "name": "ipython",
    "version": 3
   },
   "file_extension": ".py",
   "mimetype": "text/x-python",
   "name": "python",
   "nbconvert_exporter": "python",
   "pygments_lexer": "ipython3",
   "version": "3.8.10"
  },
  "toc": {
   "base_numbering": 1,
   "nav_menu": {},
   "number_sections": true,
   "sideBar": true,
   "skip_h1_title": false,
   "title_cell": "Table of Contents",
   "title_sidebar": "Contents",
   "toc_cell": false,
   "toc_position": {},
   "toc_section_display": true,
   "toc_window_display": true
  }
 },
 "nbformat": 4,
 "nbformat_minor": 5
}
